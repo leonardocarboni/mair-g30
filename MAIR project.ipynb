{
 "cells": [
  {
   "cell_type": "code",
   "execution_count": 1,
   "metadata": {},
   "outputs": [],
   "source": [
    "import pandas as pd"
   ]
  },
  {
   "cell_type": "code",
   "execution_count": 2,
   "metadata": {},
   "outputs": [],
   "source": [
    "dialog_act = []\n",
    "utterance_content= []\n",
    "with open('dialog_acts.dat', 'r') as file:\n",
    "    for line in file:\n",
    "        row = line.lower().strip('\\n')\n",
    "        dialog_act.append(row.split(maxsplit = 1)[0])\n",
    "        utterance_content.append(row.split(maxsplit = 1)[1])"
   ]
  },
  {
   "cell_type": "code",
   "execution_count": 3,
   "metadata": {},
   "outputs": [],
   "source": [
    "d = {'dialog_act': dialog_act, 'utterance_content': utterance_content}\n",
    "\n",
    "df = pd.DataFrame(data=d)"
   ]
  },
  {
   "cell_type": "code",
   "execution_count": 4,
   "metadata": {},
   "outputs": [],
   "source": [
    "from sklearn.model_selection import train_test_split\n",
    "\n",
    "X_train, X_test, Y_train, Y_test = train_test_split(df['dialog_act'], df['utterance_content'], test_size=0.15, random_state = 42)"
   ]
  },
  {
   "cell_type": "code",
   "execution_count": 7,
   "metadata": {},
   "outputs": [
    {
     "data": {
      "text/plain": [
       "16319     inform\n",
       "408      request\n",
       "16764     affirm\n",
       "17169    request\n",
       "9545        null\n",
       "          ...   \n",
       "21575     inform\n",
       "5390      inform\n",
       "860      request\n",
       "15795     inform\n",
       "23654     inform\n",
       "Name: dialog_act, Length: 21675, dtype: object"
      ]
     },
     "execution_count": 7,
     "metadata": {},
     "output_type": "execute_result"
    }
   ],
   "source": [
    "X_train"
   ]
  },
  {
   "cell_type": "code",
   "execution_count": 8,
   "metadata": {},
   "outputs": [
    {
     "data": {
      "text/plain": [
       "16319    the south part of town\n",
       "408           whats the address\n",
       "16764                       yes\n",
       "17169              phone number\n",
       "9545                      noise\n",
       "                  ...          \n",
       "21575                       any\n",
       "5390                      cheap\n",
       "860                phone number\n",
       "15795               i dont care\n",
       "23654                       any\n",
       "Name: utterance_content, Length: 21675, dtype: object"
      ]
     },
     "execution_count": 8,
     "metadata": {},
     "output_type": "execute_result"
    }
   ],
   "source": [
    "Y_train"
   ]
  },
  {
   "cell_type": "code",
   "execution_count": null,
   "metadata": {},
   "outputs": [],
   "source": []
  },
  {
   "cell_type": "code",
   "execution_count": null,
   "metadata": {},
   "outputs": [],
   "source": []
  }
 ],
 "metadata": {
  "kernelspec": {
   "display_name": "Python 3",
   "language": "python",
   "name": "python3"
  },
  "language_info": {
   "codemirror_mode": {
    "name": "ipython",
    "version": 3
   },
   "file_extension": ".py",
   "mimetype": "text/x-python",
   "name": "python",
   "nbconvert_exporter": "python",
   "pygments_lexer": "ipython3",
   "version": "3.8.3"
  }
 },
 "nbformat": 4,
 "nbformat_minor": 5
}

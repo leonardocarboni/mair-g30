{
 "cells": [
  {
   "cell_type": "code",
   "execution_count": 2,
   "id": "99ccf19b",
   "metadata": {},
   "outputs": [],
   "source": [
    "import pandas as pd"
   ]
  },
  {
   "cell_type": "code",
   "execution_count": 28,
   "id": "09f2291d",
   "metadata": {},
   "outputs": [],
   "source": [
    "dialog_act = []\n",
    "utterance_content= []\n",
    "with open('dialog_acts.dat', 'r') as file:\n",
    "    for line in file:\n",
    "        row = line.lower().strip('\\n')\n",
    "        dialog_act.append(row.split(maxsplit = 1)[0])\n",
    "        utterance_content.append(row.split(maxsplit = 1)[1])"
   ]
  },
  {
   "cell_type": "code",
   "execution_count": 29,
   "id": "3144e369",
   "metadata": {},
   "outputs": [],
   "source": [
    "d = {'dialog_act': dialog_act, 'utterance_content': utterance_content}\n",
    "\n",
    "df = pd.DataFrame(data=d)"
   ]
  },
  {
   "cell_type": "code",
   "execution_count": 30,
   "id": "51d24e3e",
   "metadata": {},
   "outputs": [],
   "source": [
    "from sklearn.model_selection import train_test_split\n",
    "\n",
    "train, test = train_test_split(df, test_size=0.15)"
   ]
  },
  {
   "cell_type": "code",
   "execution_count": 31,
   "id": "cc514701",
   "metadata": {},
   "outputs": [
    {
     "data": {
      "text/html": [
       "<div>\n",
       "<style scoped>\n",
       "    .dataframe tbody tr th:only-of-type {\n",
       "        vertical-align: middle;\n",
       "    }\n",
       "\n",
       "    .dataframe tbody tr th {\n",
       "        vertical-align: top;\n",
       "    }\n",
       "\n",
       "    .dataframe thead th {\n",
       "        text-align: right;\n",
       "    }\n",
       "</style>\n",
       "<table border=\"1\" class=\"dataframe\">\n",
       "  <thead>\n",
       "    <tr style=\"text-align: right;\">\n",
       "      <th></th>\n",
       "      <th>dialog_act</th>\n",
       "      <th>utterance_content</th>\n",
       "    </tr>\n",
       "  </thead>\n",
       "  <tbody>\n",
       "    <tr>\n",
       "      <th>340</th>\n",
       "      <td>request</td>\n",
       "      <td>what type of food</td>\n",
       "    </tr>\n",
       "    <tr>\n",
       "      <th>20266</th>\n",
       "      <td>inform</td>\n",
       "      <td>north part of town</td>\n",
       "    </tr>\n",
       "    <tr>\n",
       "      <th>1149</th>\n",
       "      <td>inform</td>\n",
       "      <td>cheap restaurant in he north part of town</td>\n",
       "    </tr>\n",
       "    <tr>\n",
       "      <th>2401</th>\n",
       "      <td>inform</td>\n",
       "      <td>moderately priced restaurant</td>\n",
       "    </tr>\n",
       "    <tr>\n",
       "      <th>13240</th>\n",
       "      <td>null</td>\n",
       "      <td>can you</td>\n",
       "    </tr>\n",
       "    <tr>\n",
       "      <th>...</th>\n",
       "      <td>...</td>\n",
       "      <td>...</td>\n",
       "    </tr>\n",
       "    <tr>\n",
       "      <th>8448</th>\n",
       "      <td>null</td>\n",
       "      <td>unintelligible</td>\n",
       "    </tr>\n",
       "    <tr>\n",
       "      <th>11628</th>\n",
       "      <td>request</td>\n",
       "      <td>address</td>\n",
       "    </tr>\n",
       "    <tr>\n",
       "      <th>24732</th>\n",
       "      <td>affirm</td>\n",
       "      <td>yes</td>\n",
       "    </tr>\n",
       "    <tr>\n",
       "      <th>20453</th>\n",
       "      <td>inform</td>\n",
       "      <td>dont care</td>\n",
       "    </tr>\n",
       "    <tr>\n",
       "      <th>19404</th>\n",
       "      <td>confirm</td>\n",
       "      <td>do they serve chinese food</td>\n",
       "    </tr>\n",
       "  </tbody>\n",
       "</table>\n",
       "<p>21675 rows × 2 columns</p>\n",
       "</div>"
      ],
      "text/plain": [
       "      dialog_act                          utterance_content\n",
       "340      request                          what type of food\n",
       "20266     inform                         north part of town\n",
       "1149      inform  cheap restaurant in he north part of town\n",
       "2401      inform               moderately priced restaurant\n",
       "13240       null                                    can you\n",
       "...          ...                                        ...\n",
       "8448        null                             unintelligible\n",
       "11628    request                                    address\n",
       "24732     affirm                                        yes\n",
       "20453     inform                                  dont care\n",
       "19404    confirm                 do they serve chinese food\n",
       "\n",
       "[21675 rows x 2 columns]"
      ]
     },
     "execution_count": 31,
     "metadata": {},
     "output_type": "execute_result"
    }
   ],
   "source": [
    "train"
   ]
  },
  {
   "cell_type": "code",
   "execution_count": null,
   "id": "f5076a77",
   "metadata": {},
   "outputs": [],
   "source": []
  },
  {
   "cell_type": "code",
   "execution_count": null,
   "id": "b92df5af",
   "metadata": {},
   "outputs": [],
   "source": []
  },
  {
   "cell_type": "code",
   "execution_count": null,
   "id": "25d677b5",
   "metadata": {},
   "outputs": [],
   "source": []
  }
 ],
 "metadata": {
  "kernelspec": {
   "display_name": "Python 3",
   "language": "python",
   "name": "python3"
  },
  "language_info": {
   "codemirror_mode": {
    "name": "ipython",
    "version": 3
   },
   "file_extension": ".py",
   "mimetype": "text/x-python",
   "name": "python",
   "nbconvert_exporter": "python",
   "pygments_lexer": "ipython3",
   "version": "3.8.5"
  }
 },
 "nbformat": 4,
 "nbformat_minor": 5
}
